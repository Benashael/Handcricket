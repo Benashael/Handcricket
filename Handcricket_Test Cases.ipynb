{
 "cells": [
  {
   "cell_type": "markdown",
   "metadata": {},
   "source": [
    "# Sample Execution for Handcricket Program"
   ]
  },
  {
   "cell_type": "markdown",
   "metadata": {},
   "source": [
    "## Sample 1"
   ]
  },
  {
   "cell_type": "markdown",
   "metadata": {},
   "source": [
    "#### Source Code & Output"
   ]
  },
  {
   "cell_type": "code",
   "execution_count": 1,
   "metadata": {},
   "outputs": [
    {
     "name": "stdout",
     "output_type": "stream",
     "text": [
      "Welcome to Hand Cricket!\n",
      "Your turn to bat.\n",
      "Enter your choice (0-6): 4\n",
      "Computer chose:  3\n",
      "Your score is:  4\n",
      "Enter your choice (0-6): 3\n",
      "Computer chose:  2\n",
      "Your score is:  7\n",
      "Enter your choice (0-6): 2\n",
      "Computer chose:  6\n",
      "Your score is:  9\n",
      "Enter your choice (0-6): 5\n",
      "Computer chose:  2\n",
      "Your score is:  14\n",
      "Enter your choice (0-6): 6\n",
      "Computer chose:  0\n",
      "Your score is:  20\n",
      "Enter your choice (0-6): 4\n",
      "Computer chose:  1\n",
      "Your score is:  24\n",
      "Enter your choice (0-6): 5\n",
      "Computer chose:  6\n",
      "Your score is:  29\n",
      "Enter your choice (0-6): 6\n",
      "Computer chose:  0\n",
      "Your score is:  35\n",
      "Enter your choice (0-6): 3\n",
      "Computer chose:  3\n",
      "Out! Your score is:  35\n",
      "Computer's target is:  36\n",
      "Computer's turn to bat.\n",
      "Enter your choice (0-6): 5\n",
      "Computer chose:  5\n",
      "Out! Computer's score is:  0\n",
      "You win by 35 runs!\n"
     ]
    }
   ],
   "source": [
    "#importing random to get random values\n",
    "import random\n",
    "\n",
    "# function to check if the input from user is valid or not\n",
    "def is_valid_input(user_input):\n",
    "    if user_input.isdigit() and int(user_input) >= 0 and int(user_input) <= 6:\n",
    "        return True\n",
    "    else:\n",
    "        return False\n",
    "\n",
    "# function to play one innings of hand cricket game\n",
    "def play_innings():\n",
    "    user_score = 0\n",
    "    computer_score = 0\n",
    "    print(\"Your turn to bat.\")\n",
    "    while True:\n",
    "        user_input = input(\"Enter your choice (0-6): \")\n",
    "        if is_valid_input(user_input):\n",
    "            user_choice = int(user_input)\n",
    "            computer_choice = random.randint(0, 6)\n",
    "            print(\"Computer chose: \", computer_choice)\n",
    "            if user_choice == computer_choice:\n",
    "                print(\"Out! Your score is: \", user_score)\n",
    "                break\n",
    "            else:\n",
    "                user_score += user_choice\n",
    "                print(\"Your score is: \", user_score)\n",
    "        else:\n",
    "            print(\"Invalid input! Please enter a number between 0 and 6.\")\n",
    "    print(\"Computer's target is: \", user_score+1)\n",
    "    print(\"Computer's turn to bat.\")\n",
    "    while True:\n",
    "        computer_choice = random.randint(0, 6)\n",
    "        user_input = input(\"Enter your choice (0-6): \")\n",
    "        if is_valid_input(user_input):\n",
    "            user_choice = int(user_input)\n",
    "            print(\"Computer chose: \", computer_choice)\n",
    "            if user_choice == computer_choice:\n",
    "                print(\"Out! Computer's score is: \", computer_score)\n",
    "                break\n",
    "            else:\n",
    "                if computer_score <= user_score:\n",
    "                    computer_score += computer_choice\n",
    "                    print(\"Computer's score is: \", computer_score)\n",
    "                else:\n",
    "                    print(\"Computer Wins!\")\n",
    "                    break\n",
    "        else:\n",
    "            print(\"Invalid input! Please enter a number between 0 and 6.\")\n",
    "    if user_score > computer_score:\n",
    "        print(\"You win by\", user_score-computer_score, \"runs!\" )\n",
    "    elif computer_score == user_score:\n",
    "        print(\"Match tied\")\n",
    "    else:\n",
    "        print(\"Better luck next time!\")\n",
    "# main program\n",
    "print(\"Welcome to Hand Cricket!\")\n",
    "play_innings()"
   ]
  },
  {
   "cell_type": "markdown",
   "metadata": {},
   "source": [
    "## Sample 2"
   ]
  },
  {
   "cell_type": "markdown",
   "metadata": {},
   "source": [
    "#### Source Code & Output"
   ]
  },
  {
   "cell_type": "code",
   "execution_count": 2,
   "metadata": {},
   "outputs": [
    {
     "name": "stdout",
     "output_type": "stream",
     "text": [
      "Welcome to Hand Cricket!\n",
      "Your turn to bat.\n",
      "Enter your choice (0-6): 5\n",
      "Computer chose:  5\n",
      "Out! Your score is:  0\n",
      "Computer's target is:  1\n",
      "Computer's turn to bat.\n",
      "Enter your choice (0-6): 3\n",
      "Computer chose:  0\n",
      "Computer's score is:  0\n",
      "Enter your choice (0-6): 2\n",
      "Computer chose:  6\n",
      "Computer's score is:  6\n",
      "Enter your choice (0-6): 5\n",
      "Computer chose:  6\n",
      "Computer Wins!\n",
      "Better luck next time!\n"
     ]
    }
   ],
   "source": [
    "#importing random to get random values\n",
    "import random\n",
    "\n",
    "# function to check if the input from user is valid or not\n",
    "def is_valid_input(user_input):\n",
    "    if user_input.isdigit() and int(user_input) >= 0 and int(user_input) <= 6:\n",
    "        return True\n",
    "    else:\n",
    "        return False\n",
    "\n",
    "# function to play one innings of hand cricket game\n",
    "def play_innings():\n",
    "    user_score = 0\n",
    "    computer_score = 0\n",
    "    print(\"Your turn to bat.\")\n",
    "    while True:\n",
    "        user_input = input(\"Enter your choice (0-6): \")\n",
    "        if is_valid_input(user_input):\n",
    "            user_choice = int(user_input)\n",
    "            computer_choice = random.randint(0, 6)\n",
    "            print(\"Computer chose: \", computer_choice)\n",
    "            if user_choice == computer_choice:\n",
    "                print(\"Out! Your score is: \", user_score)\n",
    "                break\n",
    "            else:\n",
    "                user_score += user_choice\n",
    "                print(\"Your score is: \", user_score)\n",
    "        else:\n",
    "            print(\"Invalid input! Please enter a number between 0 and 6.\")\n",
    "    print(\"Computer's target is: \", user_score+1)\n",
    "    print(\"Computer's turn to bat.\")\n",
    "    while True:\n",
    "        computer_choice = random.randint(0, 6)\n",
    "        user_input = input(\"Enter your choice (0-6): \")\n",
    "        if is_valid_input(user_input):\n",
    "            user_choice = int(user_input)\n",
    "            print(\"Computer chose: \", computer_choice)\n",
    "            if user_choice == computer_choice:\n",
    "                print(\"Out! Computer's score is: \", computer_score)\n",
    "                break\n",
    "            else:\n",
    "                if computer_score <= user_score:\n",
    "                    computer_score += computer_choice\n",
    "                    print(\"Computer's score is: \", computer_score)\n",
    "                else:\n",
    "                    print(\"Computer Wins!\")\n",
    "                    break\n",
    "        else:\n",
    "            print(\"Invalid input! Please enter a number between 0 and 6.\")\n",
    "    if user_score > computer_score:\n",
    "        print(\"You win by\", user_score-computer_score, \"runs!\" )\n",
    "    elif computer_score == user_score:\n",
    "        print(\"Match tied\")\n",
    "    else:\n",
    "        print(\"Better luck next time!\")\n",
    "# main program\n",
    "print(\"Welcome to Hand Cricket!\")\n",
    "play_innings()"
   ]
  }
 ],
 "metadata": {
  "kernelspec": {
   "display_name": "Python 3",
   "language": "python",
   "name": "python3"
  },
  "language_info": {
   "codemirror_mode": {
    "name": "ipython",
    "version": 3
   },
   "file_extension": ".py",
   "mimetype": "text/x-python",
   "name": "python",
   "nbconvert_exporter": "python",
   "pygments_lexer": "ipython3",
   "version": "3.7.3"
  }
 },
 "nbformat": 4,
 "nbformat_minor": 2
}
